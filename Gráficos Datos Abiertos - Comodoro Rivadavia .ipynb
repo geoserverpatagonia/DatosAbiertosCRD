{
 "cells": [
  {
   "cell_type": "code",
   "execution_count": 4,
   "id": "a7bfc027",
   "metadata": {},
   "outputs": [],
   "source": [
    "import pandas as pd \n",
    "import numpy as np\n",
    "import matplotlib.pyplot as plt \n",
    "import seaborn as sns\n"
   ]
  },
  {
   "cell_type": "code",
   "execution_count": 102,
   "id": "8bbe4c27",
   "metadata": {},
   "outputs": [],
   "source": [
    "datos1 = pd.read_csv (\"https://datos.vivamoscomodoro.gob.ar/base/datasets/scuyo/dit/elecciones-2019.csv\")\n"
   ]
  },
  {
   "cell_type": "code",
   "execution_count": 103,
   "id": "39cdb915",
   "metadata": {},
   "outputs": [
    {
     "data": {
      "text/html": [
       "<div>\n",
       "<style scoped>\n",
       "    .dataframe tbody tr th:only-of-type {\n",
       "        vertical-align: middle;\n",
       "    }\n",
       "\n",
       "    .dataframe tbody tr th {\n",
       "        vertical-align: top;\n",
       "    }\n",
       "\n",
       "    .dataframe thead th {\n",
       "        text-align: right;\n",
       "    }\n",
       "</style>\n",
       "<table border=\"1\" class=\"dataframe\">\n",
       "  <thead>\n",
       "    <tr style=\"text-align: right;\">\n",
       "      <th></th>\n",
       "      <th>Número</th>\n",
       "      <th>Partido Político</th>\n",
       "      <th>Intendente (Votos)</th>\n",
       "      <th>Intendente (%)</th>\n",
       "      <th>Concejales (Votos)</th>\n",
       "      <th>Concejales (%)</th>\n",
       "      <th>Trib. de Cuentas (Votos)</th>\n",
       "      <th>Trib. de Cuentas (%)</th>\n",
       "    </tr>\n",
       "  </thead>\n",
       "  <tbody>\n",
       "    <tr>\n",
       "      <th>0</th>\n",
       "      <td>-</td>\n",
       "      <td>Alianza Frente de Todos</td>\n",
       "      <td>58.053</td>\n",
       "      <td>50.60 %</td>\n",
       "      <td>56.436</td>\n",
       "      <td>49.18 %</td>\n",
       "      <td>56.216</td>\n",
       "      <td>48.99 %</td>\n",
       "    </tr>\n",
       "    <tr>\n",
       "      <th>1</th>\n",
       "      <td>-</td>\n",
       "      <td>Alianza Juntos por el Cambio</td>\n",
       "      <td>34.145</td>\n",
       "      <td>29.76 %</td>\n",
       "      <td>31.731</td>\n",
       "      <td>27.65 %</td>\n",
       "      <td>31.694</td>\n",
       "      <td>27.62 %</td>\n",
       "    </tr>\n",
       "    <tr>\n",
       "      <th>2</th>\n",
       "      <td>-</td>\n",
       "      <td>Movimiento Polo Social</td>\n",
       "      <td>5.028</td>\n",
       "      <td>4.38 %</td>\n",
       "      <td>5.215</td>\n",
       "      <td>4.54 %</td>\n",
       "      <td>5.182</td>\n",
       "      <td>4.52 %</td>\n",
       "    </tr>\n",
       "    <tr>\n",
       "      <th>3</th>\n",
       "      <td>-</td>\n",
       "      <td>Alianza Chubut al Frente</td>\n",
       "      <td>-</td>\n",
       "      <td>-</td>\n",
       "      <td>3.136</td>\n",
       "      <td>2.73 %</td>\n",
       "      <td>3.098</td>\n",
       "      <td>2.70 %</td>\n",
       "    </tr>\n",
       "    <tr>\n",
       "      <th>4</th>\n",
       "      <td>-</td>\n",
       "      <td>Partido Independiente del Chubut</td>\n",
       "      <td>2.769</td>\n",
       "      <td>2.41 %</td>\n",
       "      <td>2.220</td>\n",
       "      <td>1.93 %</td>\n",
       "      <td>2.212</td>\n",
       "      <td>1.93 %</td>\n",
       "    </tr>\n",
       "    <tr>\n",
       "      <th>5</th>\n",
       "      <td>-</td>\n",
       "      <td>Votos en blanco</td>\n",
       "      <td>12.297</td>\n",
       "      <td>10.72 %</td>\n",
       "      <td>14.102</td>\n",
       "      <td>12.29 %</td>\n",
       "      <td>14.428</td>\n",
       "      <td>12.57 %</td>\n",
       "    </tr>\n",
       "    <tr>\n",
       "      <th>6</th>\n",
       "      <td>-</td>\n",
       "      <td>Anulados</td>\n",
       "      <td>2.432</td>\n",
       "      <td>2.12 %</td>\n",
       "      <td>1.911</td>\n",
       "      <td>1.67 %</td>\n",
       "      <td>1.921</td>\n",
       "      <td>1.67 %</td>\n",
       "    </tr>\n",
       "  </tbody>\n",
       "</table>\n",
       "</div>"
      ],
      "text/plain": [
       "  Número                  Partido Político Intendente (Votos) Intendente (%)  \\\n",
       "0      -           Alianza Frente de Todos             58.053        50.60 %   \n",
       "1      -      Alianza Juntos por el Cambio             34.145        29.76 %   \n",
       "2      -            Movimiento Polo Social              5.028         4.38 %   \n",
       "3      -          Alianza Chubut al Frente                  -              -   \n",
       "4      -  Partido Independiente del Chubut              2.769         2.41 %   \n",
       "5      -                   Votos en blanco             12.297        10.72 %   \n",
       "6      -                          Anulados              2.432         2.12 %   \n",
       "\n",
       "   Concejales (Votos) Concejales (%)  Trib. de Cuentas (Votos)  \\\n",
       "0              56.436        49.18 %                    56.216   \n",
       "1              31.731        27.65 %                    31.694   \n",
       "2               5.215         4.54 %                     5.182   \n",
       "3               3.136         2.73 %                     3.098   \n",
       "4               2.220         1.93 %                     2.212   \n",
       "5              14.102        12.29 %                    14.428   \n",
       "6               1.911         1.67 %                     1.921   \n",
       "\n",
       "  Trib. de Cuentas (%)  \n",
       "0              48.99 %  \n",
       "1              27.62 %  \n",
       "2               4.52 %  \n",
       "3               2.70 %  \n",
       "4               1.93 %  \n",
       "5              12.57 %  \n",
       "6               1.67 %  "
      ]
     },
     "execution_count": 103,
     "metadata": {},
     "output_type": "execute_result"
    }
   ],
   "source": [
    "datos1.head (9)"
   ]
  },
  {
   "cell_type": "markdown",
   "id": "6cf3f13f",
   "metadata": {},
   "source": [
    "## Gráfico: \"Elecciones Generales 2019: Cat.: Intendente, Concejales y Tribunal de Cuentas Comodoro Rivadavia- Chubut\""
   ]
  },
  {
   "cell_type": "code",
   "execution_count": 67,
   "id": "91a82a77",
   "metadata": {},
   "outputs": [
    {
     "data": {
      "text/plain": [
       "Text(30, 0, ' 56.436')"
      ]
     },
     "execution_count": 67,
     "metadata": {},
     "output_type": "execute_result"
    },
    {
     "data": {
      "image/png": "[encoded data removed]",
      "text/plain": [
       "<Figure size 720x432 with 1 Axes>"
      ]
     },
     "metadata": {
      "needs_background": "light"
     },
     "output_type": "display_data"
    }
   ],
   "source": [
    "info =[('Anulados',1921), ('Votos en blanco',14428), ('Alianza Chubut al Frente',3098), ('Movimiento Polo Social',5182), ('Partido Independiente Del Chubut', 2212), ('Alianza Juntos por el Cambio', 31694), ('Alianza Frente de Todos', 56216)]\n",
    "data = []\n",
    "for v, c in info:\n",
    "  data.extend([v]*c)\n",
    "\n",
    "grafico1 = pd.DataFrame(data, columns=[\"Trib.de Cuentas (Votos)\"])\n",
    "\n",
    "ordered = sorted(gen_cnt.items(), key=lambda x: x[1], reverse=True)\n",
    "order = [ valor for valor, contador in ordered ]\n",
    "gen_cnt = grafico1['Trib.de Cuentas (Votos)'].value_counts()\n",
    "\n",
    "\n",
    "plt.figure (figsize=(10,6))\n",
    "\n",
    "plt.title ('Elecciones Generales 2019: Cat.: Intendente, Concejales y Tribunal de Cuentas Com. Riv')\n",
    "sns.countplot(data=grafico1, y='Trib.de Cuentas (Votos)', color=\"limegreen\", order=order)\n",
    "grafico1 = gen_cnt.values.sum()\n",
    "for i, (valor, contador) in enumerate(ordered):\n",
    "   pcnt = '{:0.1f}%'.format(100*contador/grafico1)\n",
    "   plt.text(contador-100, i, pcnt, va ='center')\n",
    "plt.text(30,0,\" 56.436\",fontsize= 9,  color= \"black\")"
   ]
  },
  {
   "cell_type": "markdown",
   "id": "5c661905",
   "metadata": {},
   "source": [
    "# Gráfico de Patentamiento Automotor- 2020 Comodoro Rivadavia"
   ]
  },
  {
   "cell_type": "code",
   "execution_count": 5,
   "id": "27e40343",
   "metadata": {},
   "outputs": [],
   "source": [
    "dataset = pd.read_csv (\"patentamiento-automotor-2020.csv\")"
   ]
  },
  {
   "cell_type": "code",
   "execution_count": 6,
   "id": "c7b8416d",
   "metadata": {
    "scrolled": true
   },
   "outputs": [
    {
     "data": {
      "text/html": [
       "<div>\n",
       "<style scoped>\n",
       "    .dataframe tbody tr th:only-of-type {\n",
       "        vertical-align: middle;\n",
       "    }\n",
       "\n",
       "    .dataframe tbody tr th {\n",
       "        vertical-align: top;\n",
       "    }\n",
       "\n",
       "    .dataframe thead th {\n",
       "        text-align: right;\n",
       "    }\n",
       "</style>\n",
       "<table border=\"1\" class=\"dataframe\">\n",
       "  <thead>\n",
       "    <tr style=\"text-align: right;\">\n",
       "      <th></th>\n",
       "      <th>TIPO AUTOMOTOR</th>\n",
       "      <th>CANTIDAD</th>\n",
       "    </tr>\n",
       "  </thead>\n",
       "  <tbody>\n",
       "    <tr>\n",
       "      <th>0</th>\n",
       "      <td>Automóvil</td>\n",
       "      <td>75.361</td>\n",
       "    </tr>\n",
       "    <tr>\n",
       "      <th>1</th>\n",
       "      <td>Pick Up</td>\n",
       "      <td>24.981</td>\n",
       "    </tr>\n",
       "    <tr>\n",
       "      <th>2</th>\n",
       "      <td>Furgón</td>\n",
       "      <td>3.957</td>\n",
       "    </tr>\n",
       "    <tr>\n",
       "      <th>3</th>\n",
       "      <td>Rural</td>\n",
       "      <td>7.148</td>\n",
       "    </tr>\n",
       "    <tr>\n",
       "      <th>4</th>\n",
       "      <td>Camión</td>\n",
       "      <td>5.068</td>\n",
       "    </tr>\n",
       "    <tr>\n",
       "      <th>5</th>\n",
       "      <td>Casilla Rodante</td>\n",
       "      <td>266.000</td>\n",
       "    </tr>\n",
       "    <tr>\n",
       "      <th>6</th>\n",
       "      <td>Camión Tractor</td>\n",
       "      <td>894.000</td>\n",
       "    </tr>\n",
       "    <tr>\n",
       "      <th>7</th>\n",
       "      <td>Ómnibus</td>\n",
       "      <td>1.852</td>\n",
       "    </tr>\n",
       "    <tr>\n",
       "      <th>8</th>\n",
       "      <td>Cuatriciclo</td>\n",
       "      <td>371.000</td>\n",
       "    </tr>\n",
       "    <tr>\n",
       "      <th>9</th>\n",
       "      <td>Acoplado</td>\n",
       "      <td>569.000</td>\n",
       "    </tr>\n",
       "  </tbody>\n",
       "</table>\n",
       "</div>"
      ],
      "text/plain": [
       "    TIPO AUTOMOTOR  CANTIDAD\n",
       "0        Automóvil    75.361\n",
       "1          Pick Up    24.981\n",
       "2           Furgón     3.957\n",
       "3            Rural     7.148\n",
       "4           Camión     5.068\n",
       "5  Casilla Rodante   266.000\n",
       "6   Camión Tractor   894.000\n",
       "7          Ómnibus     1.852\n",
       "8      Cuatriciclo   371.000\n",
       "9         Acoplado   569.000"
      ]
     },
     "execution_count": 6,
     "metadata": {},
     "output_type": "execute_result"
    }
   ],
   "source": [
    "dataset.head (10)"
   ]
  },
  {
   "cell_type": "code",
   "execution_count": 14,
   "id": "1fbd297c",
   "metadata": {},
   "outputs": [],
   "source": [
    "gen_cnt = grafico2['CANTIDAD'].value_counts()"
   ]
  },
  {
   "cell_type": "code",
   "execution_count": 69,
   "id": "15828cae",
   "metadata": {},
   "outputs": [
    {
     "data": {
      "text/plain": [
       "Text(30, 0, ' 894.000')"
      ]
     },
     "execution_count": 69,
     "metadata": {},
     "output_type": "execute_result"
    },
    {
     "data": {
      "image/png": "[encoded data removed]",
      "text/plain": [
       "<Figure size 720x576 with 1 Axes>"
      ]
     },
     "metadata": {
      "needs_background": "light"
     },
     "output_type": "display_data"
    }
   ],
   "source": [
    "info =[('Ómnibus', 1852),('Furgón', 3957), ('Camión', 5068),('Rural',7148), ('Pickup', 24981), ('Automovil', 75361), ('Casilla Rodante', 266000), ('Cuatriciclo', 371000),('Aclopado', 569000), ('Camion Tractor', 894000)]\n",
    "\n",
    "data = []\n",
    "for v, c in info:\n",
    "  data.extend([v]*c)\n",
    "\n",
    "\n",
    "grafico2 = pd.DataFrame(data, columns=[\"CANTIDAD\"])\n",
    "\n",
    "ordered = sorted(gen_cnt.items(), key=lambda x: x[1], reverse=True)\n",
    "order = [ valor for valor, contador in ordered ]\n",
    "gen_cnt = grafico2['CANTIDAD'].value_counts()\n",
    "\n",
    "\n",
    "plt.figure (figsize=(10,8))\n",
    "\n",
    "plt.title ('Patentamiento Automotor 2020- Com. Riv.')\n",
    "sns.countplot(data=grafico2, y='CANTIDAD', color=\"lime\", order=order)\n",
    "grafico2 = gen_cnt.values.sum()\n",
    "for i, (valor, contador) in enumerate(ordered):\n",
    "   pcnt = '{:0.1f}%'.format(100*contador/grafico2)\n",
    "   plt.text(contador-100, i, pcnt, va ='center')\n",
    "plt.text(30,0,\" 894.000\",fontsize= 9,  color= \"black\")\n",
    "\n",
    "\n",
    "\n",
    "\n",
    "\n",
    "\n",
    "\n"
   ]
  },
  {
   "cell_type": "code",
   "execution_count": null,
   "id": "c071cede",
   "metadata": {},
   "outputs": [],
   "source": []
  }
 ],
 "metadata": {
  "kernelspec": {
   "display_name": "Python 3",
   "language": "python",
   "name": "python3"
  },
  "language_info": {
   "codemirror_mode": {
    "name": "ipython",
    "version": 3
   },
   "file_extension": ".py",
   "mimetype": "text/x-python",
   "name": "python",
   "nbconvert_exporter": "python",
   "pygments_lexer": "ipython3",
   "version": "3.8.8"
  }
 },
 "nbformat": 4,
 "nbformat_minor": 5
}
